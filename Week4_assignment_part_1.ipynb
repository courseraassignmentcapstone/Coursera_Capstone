{
 "cells": [
  {
   "cell_type": "markdown",
   "metadata": {},
   "source": [
    "# Introduction/Business Problem"
   ]
  },
  {
   "cell_type": "markdown",
   "metadata": {},
   "source": [
    "#### Before opening a new restaurant in any place, it is essential to investigate the demand for it. It is crucial to investigate the criteria such as population density, availability of other restaurants (competition), income diversity of people around that area to identify whether opening a restaurant would be profitable. These features collectively enable identifying the hotspots for a restaurant that would generate the best income. In this project, we consider these aspects in identifying the best location in Toronto to open a restaurant by a certain client. \n",
    "### The business problem is identifying and recommending the client with a certain location/s in Toronto that would produce the best profit.  \n",
    "#### In order to achieve this task, we will investigate the population density, availability of other restaurants, and income diversity of the people in the Toronto neighborhoods. The population density will allow us identifying the densest areas that will roughly tell how frequently people will order food from a restaurant. For example, when a restaurant is located in a highly condensed area, the frequency of buying food from a certain restaurant is high. The availability of other restaurants will determine the competition. If a particular location has too many restaurants, it is not easy to attract many food buyers. While population density and competition play two significant roles, it is also essential to identify how affluent the area is. If the household income is lower in an area, buying food from restaurants might not be preferred. Based on these factors, we will use Foursquare API to explore neighborhoods in Toronto."
   ]
  },
  {
   "cell_type": "code",
   "execution_count": null,
   "metadata": {},
   "outputs": [],
   "source": []
  }
 ],
 "metadata": {
  "kernelspec": {
   "display_name": "Python 3",
   "language": "python",
   "name": "python3"
  },
  "language_info": {
   "codemirror_mode": {
    "name": "ipython",
    "version": 3
   },
   "file_extension": ".py",
   "mimetype": "text/x-python",
   "name": "python",
   "nbconvert_exporter": "python",
   "pygments_lexer": "ipython3",
   "version": "3.8.5"
  }
 },
 "nbformat": 4,
 "nbformat_minor": 4
}
